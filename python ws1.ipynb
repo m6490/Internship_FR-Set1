{
 "cells": [
  {
   "cell_type": "markdown",
   "id": "e0a99e76",
   "metadata": {},
   "source": [
    "### PYTHON – WORKSHEET 1   (Q-11:Q-15)"
   ]
  },
  {
   "cell_type": "markdown",
   "id": "89f967f8",
   "metadata": {},
   "source": [
    "### 11. Write a python program to find the factorial of a number"
   ]
  },
  {
   "cell_type": "code",
   "execution_count": 30,
   "id": "fc20ba09",
   "metadata": {},
   "outputs": [
    {
     "name": "stdout",
     "output_type": "stream",
     "text": [
      "Enter Number for its Factorial Calculation1\n",
      "Factorial of  1 =1\n"
     ]
    }
   ],
   "source": [
    "# Approach 1: Normal Function and Loop\n",
    "\n",
    "def factorial(x):\n",
    "    fact=1\n",
    "    if x<0:\n",
    "        print(\"Factorial not defined for negative values\")\n",
    "    elif x==0 or x==1:\n",
    "        print(\"Factorial of \",num,\"=1\")\n",
    "    else: \n",
    "        while x>=1:\n",
    "            fact= fact*x\n",
    "            x=x-1\n",
    "        print(\"Factorial of :\",num,\"=\",fact)  \n",
    "    \n",
    "num=int(input(\"Enter Number for its Factorial Calculation\"))\n",
    "factorial(num)\n"
   ]
  },
  {
   "cell_type": "code",
   "execution_count": 41,
   "id": "9a98c1c7",
   "metadata": {},
   "outputs": [
    {
     "name": "stdout",
     "output_type": "stream",
     "text": [
      "Enter Number for its Factorial Calculation1\n",
      "Factorial of  1 = 1\n"
     ]
    }
   ],
   "source": [
    "#Approach 2: Recurssion \n",
    "\n",
    "def factorial(x):\n",
    "    if x==0 or x==1:\n",
    "        return 1\n",
    "    else:\n",
    "        return x*factorial(x-1)\n",
    "    \n",
    "num=int(input(\"Enter Number for its Factorial Calculation\"))\n",
    "\n",
    "if(num<0):\n",
    "    print(\"Factorial not defined for negative values\")\n",
    "else:\n",
    "    fact=factorial(num)\n",
    "    print(\"Factorial of \",num,\"=\",fact)"
   ]
  },
  {
   "cell_type": "code",
   "execution_count": null,
   "id": "84a2aa79",
   "metadata": {},
   "outputs": [],
   "source": []
  },
  {
   "cell_type": "markdown",
   "id": "0e6c748f",
   "metadata": {},
   "source": [
    "### 12. Write a python program to find whether a number is prime or composite"
   ]
  },
  {
   "cell_type": "code",
   "execution_count": 74,
   "id": "489c2c66",
   "metadata": {},
   "outputs": [
    {
     "name": "stdout",
     "output_type": "stream",
     "text": [
      "Enter Integer to check Prime or Composite31\n",
      "31 is Prime Number\n"
     ]
    }
   ],
   "source": [
    "def isprime(x):\n",
    "    if(x==0 or x==1):\n",
    "        print(num,\"is neither Prime nor Composite\")\n",
    "    elif x>1:\n",
    "        for i in range(2,int(x/2)+1): # To reduce iterations we followed that if num is not divisible by half of numbers below it, it will be not divisible by other higher numbers too\n",
    "            if x%i==0:\n",
    "                print(x, \"is Composite Number\")\n",
    "                break\n",
    "  \n",
    "        else:\n",
    "            print(x, \"is Prime Number\")\n",
    "    \n",
    "num=int(input(\"Enter Integer to check Prime or Composite\"))\n",
    "isprime(num)\n",
    "    "
   ]
  },
  {
   "cell_type": "code",
   "execution_count": null,
   "id": "6a4939de",
   "metadata": {},
   "outputs": [],
   "source": []
  },
  {
   "cell_type": "markdown",
   "id": "1b630de6",
   "metadata": {},
   "source": [
    "### 13. Write a python program to check whether a given string is palindrome or not"
   ]
  },
  {
   "cell_type": "code",
   "execution_count": 91,
   "id": "9185da6d",
   "metadata": {},
   "outputs": [
    {
     "name": "stdout",
     "output_type": "stream",
     "text": [
      "Enter Any String to Check Palindrome or Not malayalam\n",
      "Provided String is a Palindrome\n"
     ]
    }
   ],
   "source": [
    "# Approch 2, Using the logic of reverse of string is obtained by [::-1]\n",
    "def palindrome2(str):\n",
    "    str=str.lower().replace(\" \",\"\")\n",
    "    rev=str[::-1]\n",
    "    if rev==str:\n",
    "        print(\"Provided String is a Palindrome\")\n",
    "    else:\n",
    "        print(\"Provided String is not a Palindrome\")\n",
    "        \n",
    "string=input(\"Enter Any String to Check Palindrome or Not \")\n",
    "palindrome2(string)\n",
    "      "
   ]
  },
  {
   "cell_type": "code",
   "execution_count": 88,
   "id": "29a27fdb",
   "metadata": {},
   "outputs": [
    {
     "name": "stdout",
     "output_type": "stream",
     "text": [
      "Enter Any String to Check Palindrome or Not malayalam\n",
      "Provided String is a Palindrome\n"
     ]
    }
   ],
   "source": [
    "# Approach 1: Comparing str with each reverse string element\n",
    "def palindrome(str):\n",
    "    j=-1\n",
    "    for i in str:\n",
    "        if (i!=str[j]):\n",
    "            flag=1\n",
    "            break\n",
    "        else:\n",
    "            flag=0\n",
    "        j=j-1\n",
    "        \n",
    "    if flag==1:\n",
    "        print(\"Provided String is not a Palindrome\")\n",
    "    else:\n",
    "        print(\"Provided String is a Palindrome\")\n",
    "    \n",
    "    \n",
    "string=input(\"Enter Any String to Check Palindrome or Not \")\n",
    "palindrome(string)\n"
   ]
  },
  {
   "cell_type": "code",
   "execution_count": null,
   "id": "6823fcc1",
   "metadata": {},
   "outputs": [],
   "source": []
  },
  {
   "cell_type": "markdown",
   "id": "aed3ffc3",
   "metadata": {},
   "source": [
    "### 14. Write a Python program to get the third side of right-angled triangle from two given sides"
   ]
  },
  {
   "cell_type": "code",
   "execution_count": 95,
   "id": "25663eb9",
   "metadata": {},
   "outputs": [
    {
     "name": "stdout",
     "output_type": "stream",
     "text": [
      "Enter value of altitude for right angled traingle3\n",
      "Enter value of base for right angled traingle4\n",
      "The third side of right-angled triangle= 5.0\n"
     ]
    }
   ],
   "source": [
    "def pythogarus(x,y):\n",
    "    z=((x**2)+(y**2))**(1/2)\n",
    "    print(\"The third side of right-angled triangle=\",z)\n",
    "x=int(input(\"Enter value of altitude for right angled traingle\"))\n",
    "y=int(input(\"Enter value of base for right angled traingle\"))\n",
    "pythogarus(x,y)\n",
    "    "
   ]
  },
  {
   "cell_type": "code",
   "execution_count": null,
   "id": "a70bb87d",
   "metadata": {},
   "outputs": [],
   "source": []
  },
  {
   "cell_type": "markdown",
   "id": "c881c339",
   "metadata": {},
   "source": [
    "### 15. Write a python program to print the frequency of each of the characters present in a given string"
   ]
  },
  {
   "cell_type": "code",
   "execution_count": 103,
   "id": "f80ace97",
   "metadata": {},
   "outputs": [
    {
     "name": "stdout",
     "output_type": "stream",
     "text": [
      "Enter the string: mascarADE\n",
      "The frequency of each of the characters present in given string is as follows:\n",
      "m:1\n",
      "a:2\n",
      "s:1\n",
      "c:1\n",
      "r:1\n",
      "A:1\n",
      "D:1\n",
      "E:1\n"
     ]
    }
   ],
   "source": [
    "# Approach1: Using loop\n",
    "string=input(\"Enter the string: \")\n",
    "str1=list(string)\n",
    "strlist=[]\n",
    "print(\"The frequency of each of the characters present in given string is as follows:\")\n",
    "for i in str1:\n",
    "    if i not in strlist:\n",
    "       strlist.append(i)\n",
    "       count=0\n",
    "       for j in range(len(str1)):\n",
    "         if i==str1[j]:\n",
    "           count+=1\n",
    "        \n",
    "       \n",
    "       print(\"{}:{}\".format(i,count))"
   ]
  },
  {
   "cell_type": "code",
   "execution_count": 117,
   "id": "24d679bf",
   "metadata": {},
   "outputs": [
    {
     "name": "stdout",
     "output_type": "stream",
     "text": [
      "Enter the string:mascarADE\n",
      "Counter({'a': 2, 'm': 1, 's': 1, 'c': 1, 'r': 1, 'A': 1, 'D': 1, 'E': 1})\n"
     ]
    }
   ],
   "source": [
    "#Approach 2: Using Counter BIF\n",
    "from collections import Counter\n",
    "\n",
    "string2=input(\"Enter the string:\")\n",
    "print(Counter(string2))"
   ]
  },
  {
   "cell_type": "code",
   "execution_count": null,
   "id": "ac3605b6",
   "metadata": {},
   "outputs": [],
   "source": []
  }
 ],
 "metadata": {
  "kernelspec": {
   "display_name": "Python 3 (ipykernel)",
   "language": "python",
   "name": "python3"
  },
  "language_info": {
   "codemirror_mode": {
    "name": "ipython",
    "version": 3
   },
   "file_extension": ".py",
   "mimetype": "text/x-python",
   "name": "python",
   "nbconvert_exporter": "python",
   "pygments_lexer": "ipython3",
   "version": "3.9.12"
  }
 },
 "nbformat": 4,
 "nbformat_minor": 5
}
